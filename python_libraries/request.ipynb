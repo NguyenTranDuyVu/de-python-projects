{
 "cells": [
  {
   "cell_type": "code",
   "execution_count": 7,
   "metadata": {},
   "outputs": [],
   "source": [
    "import requests\n",
    "\n",
    "response = requests.get('https://dummyjson.com/products')"
   ]
  },
  {
   "cell_type": "markdown",
   "metadata": {},
   "source": [
    "Handle response status code"
   ]
  },
  {
   "cell_type": "code",
   "execution_count": 8,
   "metadata": {},
   "outputs": [
    {
     "name": "stdout",
     "output_type": "stream",
     "text": [
      "Success!\n"
     ]
    }
   ],
   "source": [
    "# check whether status code is successful\n",
    "if response.status_code == 200:\n",
    "    print('Success!')\n",
    "elif response.status_code == 404:\n",
    "    print('Not found!')"
   ]
  },
  {
   "cell_type": "code",
   "execution_count": 9,
   "metadata": {},
   "outputs": [
    {
     "name": "stdout",
     "output_type": "stream",
     "text": [
      "Success!\n"
     ]
    }
   ],
   "source": [
    "# status >= 200 and status <= 399 will return True\n",
    "if response:\n",
    "    print(\"Success!\")\n",
    "else:\n",
    "    raise Exception(f\"Non-success status code: {response.status_code}\")"
   ]
  },
  {
   "cell_type": "code",
   "execution_count": 10,
   "metadata": {},
   "outputs": [
    {
     "name": "stdout",
     "output_type": "stream",
     "text": [
      "Successful!\n"
     ]
    }
   ],
   "source": [
    "# use requests build-in capability to raise exception\n",
    "from requests.exceptions import HTTPError\n",
    "\n",
    "try:\n",
    "    response2 = requests.get('https://dummyjson.com/products')\n",
    "    response2.raise_for_status()\n",
    "\n",
    "except HTTPError:\n",
    "    print(f'HTTP Error Status: {HTTPError}')\n",
    "except Exception:\n",
    "    print(f'Other error occured: {Exception}')\n",
    "else:\n",
    "    print('Successful!')\n"
   ]
  },
  {
   "cell_type": "markdown",
   "metadata": {},
   "source": [
    "Handle response content"
   ]
  },
  {
   "cell_type": "code",
   "execution_count": 11,
   "metadata": {},
   "outputs": [
    {
     "name": "stdout",
     "output_type": "stream",
     "text": [
      "Type of content attributes is bytes\n",
      "Type of content attributes is str\n",
      "Type of content attributes is dict\n"
     ]
    }
   ],
   "source": [
    "# content type \n",
    "\n",
    "print(f'Type of content attributes is {type(response.content).__name__}')\n",
    "print(f'Type of content attributes is {type(response.text).__name__}')\n",
    "print(f'Type of content attributes is {type(response.json()).__name__}')\n"
   ]
  }
 ],
 "metadata": {
  "kernelspec": {
   "display_name": "base",
   "language": "python",
   "name": "python3"
  },
  "language_info": {
   "codemirror_mode": {
    "name": "ipython",
    "version": 3
   },
   "file_extension": ".py",
   "mimetype": "text/x-python",
   "name": "python",
   "nbconvert_exporter": "python",
   "pygments_lexer": "ipython3",
   "version": "3.9.13"
  }
 },
 "nbformat": 4,
 "nbformat_minor": 2
}
