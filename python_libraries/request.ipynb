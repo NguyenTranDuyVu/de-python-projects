{
 "cells": [
  {
   "cell_type": "markdown",
   "metadata": {},
   "source": [
    "# Learning request libraries"
   ]
  },
  {
   "cell_type": "code",
   "execution_count": 12,
   "metadata": {},
   "outputs": [],
   "source": [
    "import requests\n",
    "\n",
    "response = requests.get('https://dummyjson.com/products')"
   ]
  },
  {
   "cell_type": "markdown",
   "metadata": {},
   "source": [
    "## Handle response status code"
   ]
  },
  {
   "cell_type": "code",
   "execution_count": 13,
   "metadata": {},
   "outputs": [
    {
     "name": "stdout",
     "output_type": "stream",
     "text": [
      "Success!\n"
     ]
    }
   ],
   "source": [
    "# check whether status code is successful\n",
    "if response.status_code == 200:\n",
    "    print('Success!')\n",
    "elif response.status_code == 404:\n",
    "    print('Not found!')"
   ]
  },
  {
   "cell_type": "code",
   "execution_count": 14,
   "metadata": {},
   "outputs": [
    {
     "name": "stdout",
     "output_type": "stream",
     "text": [
      "Success!\n"
     ]
    }
   ],
   "source": [
    "# status >= 200 and status <= 399 will return True\n",
    "if response:\n",
    "    print(\"Success!\")\n",
    "else:\n",
    "    raise Exception(f\"Non-success status code: {response.status_code}\")"
   ]
  },
  {
   "cell_type": "code",
   "execution_count": 15,
   "metadata": {},
   "outputs": [
    {
     "name": "stdout",
     "output_type": "stream",
     "text": [
      "Successful!\n"
     ]
    }
   ],
   "source": [
    "# use requests build-in capability to raise exception\n",
    "from requests.exceptions import HTTPError\n",
    "\n",
    "try:\n",
    "    response2 = requests.get('https://dummyjson.com/products')\n",
    "    response2.raise_for_status()\n",
    "\n",
    "except HTTPError:\n",
    "    print(f'HTTP Error Status: {HTTPError}')\n",
    "except Exception:\n",
    "    print(f'Other error occured: {Exception}')\n",
    "else:\n",
    "    print('Successful!')\n"
   ]
  },
  {
   "cell_type": "markdown",
   "metadata": {},
   "source": [
    "## Handle response content"
   ]
  },
  {
   "cell_type": "code",
   "execution_count": 16,
   "metadata": {},
   "outputs": [
    {
     "name": "stdout",
     "output_type": "stream",
     "text": [
      "Type of content attributes is bytes\n",
      "Type of content attributes is str\n",
      "Type of content attributes is dict\n"
     ]
    }
   ],
   "source": [
    "# content type \n",
    "\n",
    "print(f'Type of content attributes is {type(response.content).__name__}')\n",
    "print(f'Type of content attributes is {type(response.text).__name__}')\n",
    "print(f'Type of content attributes is {type(response.json()).__name__}')\n"
   ]
  },
  {
   "cell_type": "code",
   "execution_count": 17,
   "metadata": {},
   "outputs": [
    {
     "data": {
      "text/plain": [
       "{'access-control-allow-origin': '*', 'x-dns-prefetch-control': 'off', 'x-frame-options': 'SAMEORIGIN', 'strict-transport-security': 'max-age=15552000; includeSubDomains', 'x-download-options': 'noopen', 'x-content-type-options': 'nosniff', 'x-xss-protection': '1; mode=block', 'x-ratelimit-limit': '100', 'x-ratelimit-remaining': '99', 'date': 'Tue, 19 Mar 2024 11:14:22 GMT', 'x-ratelimit-reset': '1710846870', 'content-type': 'application/json; charset=utf-8', 'etag': 'W/\"433e-g2UJQgfnupkv6PIR1Jka6cNpDBM\"', 'vary': 'Accept-Encoding', 'content-encoding': 'gzip', 'server': 'railway', 'transfer-encoding': 'chunked'}"
      ]
     },
     "execution_count": 17,
     "metadata": {},
     "output_type": "execute_result"
    }
   ],
   "source": [
    "# header \n",
    "\n",
    "response.headers"
   ]
  },
  {
   "cell_type": "markdown",
   "metadata": {},
   "source": [
    "## Query String Parameters"
   ]
  },
  {
   "cell_type": "code",
   "execution_count": 23,
   "metadata": {},
   "outputs": [
    {
     "name": "stdout",
     "output_type": "stream",
     "text": [
      "{\"products\":[{\"id\":7,\"title\":\"Samsung Galaxy Book\",\"description\":\"Samsung Galaxy Book S (2020) Laptop With Intel Lakefield Chip, 8GB of RAM Launched\",\"price\":1499,\"discountPercentage\":4.15,\"rating\":4.25,\"stock\":50,\"brand\":\"Samsung\",\"category\":\"laptops\",\"thumbnail\":\"https://cdn.dummyjson.com/product-images/7/thumbnail.jpg\",\"images\":[\"https://cdn.dummyjson.com/product-images/7/1.jpg\",\"https://cdn.dummyjson.com/product-images/7/2.jpg\",\"https://cdn.dummyjson.com/product-images/7/3.jpg\",\"https://cdn.dummyjson.com/product-images/7/thumbnail.jpg\"]},{\"id\":8,\"title\":\"Microsoft Surface Laptop 4\",\"description\":\"Style and speed. Stand out on HD video calls backed by Studio Mics. Capture ideas on the vibrant touchscreen.\",\"price\":1499,\"discountPercentage\":10.23,\"rating\":4.43,\"stock\":68,\"brand\":\"Microsoft Surface\",\"category\":\"laptops\",\"thumbnail\":\"https://cdn.dummyjson.com/product-images/8/thumbnail.jpg\",\"images\":[\"https://cdn.dummyjson.com/product-images/8/1.jpg\",\"https://cdn.dummyjson.com/product-images/8/2.jpg\",\"https://cdn.dummyjson.com/product-images/8/3.jpg\",\"https://cdn.dummyjson.com/product-images/8/4.jpg\",\"https://cdn.dummyjson.com/product-images/8/thumbnail.jpg\"]},{\"id\":10,\"title\":\"HP Pavilion 15-DK1056WM\",\"description\":\"HP Pavilion 15-DK1056WM Gaming Laptop 10th Gen Core i5, 8GB, 256GB SSD, GTX 1650 4GB, Windows 10\",\"price\":1099,\"discountPercentage\":6.18,\"rating\":4.43,\"stock\":89,\"brand\":\"HP Pavilion\",\"category\":\"laptops\",\"thumbnail\":\"https://cdn.dummyjson.com/product-images/10/thumbnail.jpeg\",\"images\":[\"https://cdn.dummyjson.com/product-images/10/1.jpg\",\"https://cdn.dummyjson.com/product-images/10/2.jpg\",\"https://cdn.dummyjson.com/product-images/10/3.jpg\",\"https://cdn.dummyjson.com/product-images/10/thumbnail.jpeg\"]}],\"total\":3,\"skip\":0,\"limit\":3}\n"
     ]
    }
   ],
   "source": [
    "laptop_response = requests.get('https://dummyjson.com/products/search', params={'q':'laptop'})\n",
    "print(laptop_response.text)"
   ]
  },
  {
   "cell_type": "markdown",
   "metadata": {},
   "source": [
    "## Sent data"
   ]
  },
  {
   "cell_type": "code",
   "execution_count": 52,
   "metadata": {},
   "outputs": [
    {
     "name": "stdout",
     "output_type": "stream",
     "text": [
      "Content type: application/x-www-form-urlencoded\n",
      "Data: {'key': 'value'}\n",
      "Content type: application/json\n",
      "Data: {\"key\": \"value\"}\n"
     ]
    }
   ],
   "source": [
    "# when request content type = application/x-www-form-urlencoded\n",
    "\n",
    "raw_type_response = requests.post(\"https://httpbin.org/post\", data={\"key\": \"value\"})\n",
    "\n",
    "print('Content type: ' + str(raw_type_response.json()['headers']['Content-Type']))\n",
    "print('Data: ' + str(raw_type_response.json()['form']))\n",
    "\n",
    "# when content type = json\n",
    "\n",
    "json_response = requests.post('https://httpbin.org/post', json={\"key\": \"value\"})\n",
    "print('Content type: ' + str(json_response.json()['headers']['Content-Type']))\n",
    "print('Data: ' + str(json_response.json()['data']))"
   ]
  },
  {
   "cell_type": "markdown",
   "metadata": {},
   "source": [
    "## Authentication"
   ]
  },
  {
   "cell_type": "code",
   "execution_count": 54,
   "metadata": {},
   "outputs": [
    {
     "data": {
      "text/plain": [
       "'Basic dXNlcjpwYXNzd2Q='"
      ]
     },
     "execution_count": 54,
     "metadata": {},
     "output_type": "execute_result"
    }
   ],
   "source": [
    "response = requests.get(\"https://httpbin.org/basic-auth/user/passwd\",auth=(\"user\", \"passwd\"))\n",
    "\n",
    "response.request.headers['Authorization']\n"
   ]
  }
 ],
 "metadata": {
  "kernelspec": {
   "display_name": "base",
   "language": "python",
   "name": "python3"
  },
  "language_info": {
   "codemirror_mode": {
    "name": "ipython",
    "version": 3
   },
   "file_extension": ".py",
   "mimetype": "text/x-python",
   "name": "python",
   "nbconvert_exporter": "python",
   "pygments_lexer": "ipython3",
   "version": "3.9.13"
  }
 },
 "nbformat": 4,
 "nbformat_minor": 2
}
